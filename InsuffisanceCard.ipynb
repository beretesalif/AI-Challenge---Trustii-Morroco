{
 "cells": [
  {
   "cell_type": "code",
   "execution_count": 75,
   "id": "3c18c040",
   "metadata": {},
   "outputs": [],
   "source": [
    "from sklearn.linear_model import LogisticRegression \n",
    "from sklearn.tree import DecisionTreeClassifier \n",
    "from sklearn.neighbors import KNeighborsClassifier \n",
    "from sklearn.ensemble import RandomForestClassifier \n",
    "from sklearn.svm import SVC \n",
    "from sklearn.metrics import accuracy_score,confusion_matrix\n",
    "from sklearn.model_selection import train_test_split\n",
    "from sklearn.ensemble import GradientBoostingClassifier \n",
    "from sklearn.linear_model import SGDClassifier\n",
    "from sklearn.preprocessing import StandardScaler\n",
    "from sklearn.neighbors import NearestNeighbors\n",
    "from sklearn.gaussian_process import GaussianProcessRegressor\n",
    "from sklearn import preprocessing\n",
    "from sklearn.preprocessing import PolynomialFeatures"
   ]
  },
  {
   "cell_type": "code",
   "execution_count": 76,
   "id": "e70e8029",
   "metadata": {},
   "outputs": [],
   "source": [
    "from sklearn.model_selection import GridSearchCV \n",
    "import pandas as pd\n",
    "import numpy as np\n",
    "from matplotlib import pyplot as plt\n",
    "import seaborn as sns \n"
   ]
  },
  {
   "cell_type": "code",
   "execution_count": 77,
   "id": "93fdc457",
   "metadata": {},
   "outputs": [],
   "source": [
    "from sklearn.preprocessing import RobustScaler,MinMaxScaler,StandardScaler"
   ]
  },
  {
   "cell_type": "markdown",
   "id": "b2b80a7b",
   "metadata": {},
   "source": [
    "# Inportantion des datas"
   ]
  },
  {
   "cell_type": "code",
   "execution_count": 136,
   "id": "4a109f6a",
   "metadata": {},
   "outputs": [],
   "source": [
    "df_train=pd.read_csv('Cardiaque_train.csv')"
   ]
  },
  {
   "cell_type": "code",
   "execution_count": 137,
   "id": "ef3e9a6d",
   "metadata": {},
   "outputs": [],
   "source": [
    "df_val=pd.read_csv('Cardiaque_test.csv')"
   ]
  },
  {
   "cell_type": "code",
   "execution_count": 138,
   "id": "d1698ef9",
   "metadata": {},
   "outputs": [],
   "source": [
    "df_val=df_val.set_index('trustii_id')"
   ]
  },
  {
   "cell_type": "markdown",
   "id": "719acdfe",
   "metadata": {},
   "source": [
    "# Preprocessing"
   ]
  },
  {
   "cell_type": "code",
   "execution_count": 139,
   "id": "cbdc37f2",
   "metadata": {},
   "outputs": [
    {
     "data": {
      "text/html": [
       "<div>\n",
       "<style scoped>\n",
       "    .dataframe tbody tr th:only-of-type {\n",
       "        vertical-align: middle;\n",
       "    }\n",
       "\n",
       "    .dataframe tbody tr th {\n",
       "        vertical-align: top;\n",
       "    }\n",
       "\n",
       "    .dataframe thead th {\n",
       "        text-align: right;\n",
       "    }\n",
       "</style>\n",
       "<table border=\"1\" class=\"dataframe\">\n",
       "  <thead>\n",
       "    <tr style=\"text-align: right;\">\n",
       "      <th></th>\n",
       "      <th>age</th>\n",
       "      <th>anaemia</th>\n",
       "      <th>creatinine_phosphokinase</th>\n",
       "      <th>diabetes</th>\n",
       "      <th>ejection_fraction</th>\n",
       "      <th>high_blood_pressure</th>\n",
       "      <th>platelets</th>\n",
       "      <th>serum_creatinine</th>\n",
       "      <th>serum_sodium</th>\n",
       "      <th>sex</th>\n",
       "      <th>smoking</th>\n",
       "      <th>time</th>\n",
       "    </tr>\n",
       "    <tr>\n",
       "      <th>trustii_id</th>\n",
       "      <th></th>\n",
       "      <th></th>\n",
       "      <th></th>\n",
       "      <th></th>\n",
       "      <th></th>\n",
       "      <th></th>\n",
       "      <th></th>\n",
       "      <th></th>\n",
       "      <th></th>\n",
       "      <th></th>\n",
       "      <th></th>\n",
       "      <th></th>\n",
       "    </tr>\n",
       "  </thead>\n",
       "  <tbody>\n",
       "    <tr>\n",
       "      <th>1</th>\n",
       "      <td>58.0</td>\n",
       "      <td>0.0</td>\n",
       "      <td>144.0</td>\n",
       "      <td>1.0</td>\n",
       "      <td>38.0</td>\n",
       "      <td>1.0</td>\n",
       "      <td>327000.00</td>\n",
       "      <td>0.70</td>\n",
       "      <td>142.0</td>\n",
       "      <td>0.0</td>\n",
       "      <td>0.0</td>\n",
       "      <td>83.0</td>\n",
       "    </tr>\n",
       "    <tr>\n",
       "      <th>2</th>\n",
       "      <td>50.0</td>\n",
       "      <td>1.0</td>\n",
       "      <td>249.0</td>\n",
       "      <td>1.0</td>\n",
       "      <td>35.0</td>\n",
       "      <td>1.0</td>\n",
       "      <td>319000.00</td>\n",
       "      <td>1.00</td>\n",
       "      <td>128.0</td>\n",
       "      <td>0.0</td>\n",
       "      <td>0.0</td>\n",
       "      <td>28.0</td>\n",
       "    </tr>\n",
       "    <tr>\n",
       "      <th>3</th>\n",
       "      <td>60.0</td>\n",
       "      <td>0.0</td>\n",
       "      <td>166.0</td>\n",
       "      <td>0.0</td>\n",
       "      <td>30.0</td>\n",
       "      <td>0.0</td>\n",
       "      <td>62000.00</td>\n",
       "      <td>1.70</td>\n",
       "      <td>127.0</td>\n",
       "      <td>0.0</td>\n",
       "      <td>0.0</td>\n",
       "      <td>207.0</td>\n",
       "    </tr>\n",
       "    <tr>\n",
       "      <th>4</th>\n",
       "      <td>60.0</td>\n",
       "      <td>0.0</td>\n",
       "      <td>235.0</td>\n",
       "      <td>1.0</td>\n",
       "      <td>38.0</td>\n",
       "      <td>0.0</td>\n",
       "      <td>329000.00</td>\n",
       "      <td>3.00</td>\n",
       "      <td>142.0</td>\n",
       "      <td>0.0</td>\n",
       "      <td>0.0</td>\n",
       "      <td>30.0</td>\n",
       "    </tr>\n",
       "    <tr>\n",
       "      <th>5</th>\n",
       "      <td>86.0</td>\n",
       "      <td>0.0</td>\n",
       "      <td>582.0</td>\n",
       "      <td>0.0</td>\n",
       "      <td>38.0</td>\n",
       "      <td>0.0</td>\n",
       "      <td>263358.03</td>\n",
       "      <td>1.83</td>\n",
       "      <td>134.0</td>\n",
       "      <td>0.0</td>\n",
       "      <td>0.0</td>\n",
       "      <td>95.0</td>\n",
       "    </tr>\n",
       "    <tr>\n",
       "      <th>...</th>\n",
       "      <td>...</td>\n",
       "      <td>...</td>\n",
       "      <td>...</td>\n",
       "      <td>...</td>\n",
       "      <td>...</td>\n",
       "      <td>...</td>\n",
       "      <td>...</td>\n",
       "      <td>...</td>\n",
       "      <td>...</td>\n",
       "      <td>...</td>\n",
       "      <td>...</td>\n",
       "      <td>...</td>\n",
       "    </tr>\n",
       "    <tr>\n",
       "      <th>86</th>\n",
       "      <td>85.0</td>\n",
       "      <td>0.0</td>\n",
       "      <td>5882.0</td>\n",
       "      <td>0.0</td>\n",
       "      <td>35.0</td>\n",
       "      <td>0.0</td>\n",
       "      <td>243000.00</td>\n",
       "      <td>1.00</td>\n",
       "      <td>132.0</td>\n",
       "      <td>1.0</td>\n",
       "      <td>1.0</td>\n",
       "      <td>72.0</td>\n",
       "    </tr>\n",
       "    <tr>\n",
       "      <th>87</th>\n",
       "      <td>55.0</td>\n",
       "      <td>0.0</td>\n",
       "      <td>572.0</td>\n",
       "      <td>1.0</td>\n",
       "      <td>35.0</td>\n",
       "      <td>0.0</td>\n",
       "      <td>231000.00</td>\n",
       "      <td>0.80</td>\n",
       "      <td>143.0</td>\n",
       "      <td>0.0</td>\n",
       "      <td>0.0</td>\n",
       "      <td>215.0</td>\n",
       "    </tr>\n",
       "    <tr>\n",
       "      <th>88</th>\n",
       "      <td>50.0</td>\n",
       "      <td>1.0</td>\n",
       "      <td>582.0</td>\n",
       "      <td>1.0</td>\n",
       "      <td>20.0</td>\n",
       "      <td>1.0</td>\n",
       "      <td>279000.00</td>\n",
       "      <td>1.00</td>\n",
       "      <td>134.0</td>\n",
       "      <td>0.0</td>\n",
       "      <td>0.0</td>\n",
       "      <td>186.0</td>\n",
       "    </tr>\n",
       "    <tr>\n",
       "      <th>89</th>\n",
       "      <td>60.0</td>\n",
       "      <td>0.0</td>\n",
       "      <td>2261.0</td>\n",
       "      <td>0.0</td>\n",
       "      <td>35.0</td>\n",
       "      <td>1.0</td>\n",
       "      <td>228000.00</td>\n",
       "      <td>0.90</td>\n",
       "      <td>136.0</td>\n",
       "      <td>1.0</td>\n",
       "      <td>0.0</td>\n",
       "      <td>115.0</td>\n",
       "    </tr>\n",
       "    <tr>\n",
       "      <th>90</th>\n",
       "      <td>60.0</td>\n",
       "      <td>0.0</td>\n",
       "      <td>582.0</td>\n",
       "      <td>1.0</td>\n",
       "      <td>38.0</td>\n",
       "      <td>1.0</td>\n",
       "      <td>451000.00</td>\n",
       "      <td>0.60</td>\n",
       "      <td>138.0</td>\n",
       "      <td>1.0</td>\n",
       "      <td>1.0</td>\n",
       "      <td>40.0</td>\n",
       "    </tr>\n",
       "  </tbody>\n",
       "</table>\n",
       "<p>90 rows × 12 columns</p>\n",
       "</div>"
      ],
      "text/plain": [
       "             age  anaemia  creatinine_phosphokinase  diabetes  \\\n",
       "trustii_id                                                      \n",
       "1           58.0      0.0                     144.0       1.0   \n",
       "2           50.0      1.0                     249.0       1.0   \n",
       "3           60.0      0.0                     166.0       0.0   \n",
       "4           60.0      0.0                     235.0       1.0   \n",
       "5           86.0      0.0                     582.0       0.0   \n",
       "...          ...      ...                       ...       ...   \n",
       "86          85.0      0.0                    5882.0       0.0   \n",
       "87          55.0      0.0                     572.0       1.0   \n",
       "88          50.0      1.0                     582.0       1.0   \n",
       "89          60.0      0.0                    2261.0       0.0   \n",
       "90          60.0      0.0                     582.0       1.0   \n",
       "\n",
       "            ejection_fraction  high_blood_pressure  platelets  \\\n",
       "trustii_id                                                      \n",
       "1                        38.0                  1.0  327000.00   \n",
       "2                        35.0                  1.0  319000.00   \n",
       "3                        30.0                  0.0   62000.00   \n",
       "4                        38.0                  0.0  329000.00   \n",
       "5                        38.0                  0.0  263358.03   \n",
       "...                       ...                  ...        ...   \n",
       "86                       35.0                  0.0  243000.00   \n",
       "87                       35.0                  0.0  231000.00   \n",
       "88                       20.0                  1.0  279000.00   \n",
       "89                       35.0                  1.0  228000.00   \n",
       "90                       38.0                  1.0  451000.00   \n",
       "\n",
       "            serum_creatinine  serum_sodium  sex  smoking   time  \n",
       "trustii_id                                                       \n",
       "1                       0.70         142.0  0.0      0.0   83.0  \n",
       "2                       1.00         128.0  0.0      0.0   28.0  \n",
       "3                       1.70         127.0  0.0      0.0  207.0  \n",
       "4                       3.00         142.0  0.0      0.0   30.0  \n",
       "5                       1.83         134.0  0.0      0.0   95.0  \n",
       "...                      ...           ...  ...      ...    ...  \n",
       "86                      1.00         132.0  1.0      1.0   72.0  \n",
       "87                      0.80         143.0  0.0      0.0  215.0  \n",
       "88                      1.00         134.0  0.0      0.0  186.0  \n",
       "89                      0.90         136.0  1.0      0.0  115.0  \n",
       "90                      0.60         138.0  1.0      1.0   40.0  \n",
       "\n",
       "[90 rows x 12 columns]"
      ]
     },
     "execution_count": 139,
     "metadata": {},
     "output_type": "execute_result"
    }
   ],
   "source": [
    "df_val"
   ]
  },
  {
   "cell_type": "code",
   "execution_count": 7,
   "id": "43526d93",
   "metadata": {},
   "outputs": [],
   "source": [
    "corr=df_train.loc[:,:].corr()"
   ]
  },
  {
   "cell_type": "code",
   "execution_count": 8,
   "id": "30d48754",
   "metadata": {},
   "outputs": [
    {
     "data": {
      "image/png": "[encoded data removed]",
      "text/plain": [
       "<Figure size 1080x792 with 2 Axes>"
      ]
     },
     "metadata": {
      "needs_background": "light"
     },
     "output_type": "display_data"
    }
   ],
   "source": [
    "plt.figure(figsize=(15,11))\n",
    "\n",
    "sns.heatmap(corr, \n",
    "xticklabels=corr.columns, \n",
    "yticklabels=corr . columns, annot=True)\n",
    "plt.show()"
   ]
  },
  {
   "cell_type": "markdown",
   "id": "c547298e",
   "metadata": {},
   "source": [
    "### On cherche a voir l'impacte des variables categorielles sur notre variable de prediction DEATH_EVENT"
   ]
  },
  {
   "cell_type": "markdown",
   "id": "c2122e60",
   "metadata": {},
   "source": [
    "Ces variables categorielles sont: anaemia,high_blood_pressure,smoking,diabetes,sex"
   ]
  },
  {
   "cell_type": "code",
   "execution_count": 7,
   "id": "2c42279c",
   "metadata": {},
   "outputs": [],
   "source": [
    "liste=['high_blood_pressure','anaemia','smoking','diabetes','sex']"
   ]
  },
  {
   "cell_type": "code",
   "execution_count": 9,
   "id": "43fc345e",
   "metadata": {},
   "outputs": [],
   "source": [
    "def catego(liste):\n",
    "    for col in liste:\n",
    "        print(df_train.groupby(col).mean()['DEATH_EVENT'])"
   ]
  },
  {
   "cell_type": "code",
   "execution_count": 9,
   "id": "89863209",
   "metadata": {},
   "outputs": [
    {
     "name": "stdout",
     "output_type": "stream",
     "text": [
      "high_blood_pressure\n",
      "0.0    0.266667\n",
      "1.0    0.418919\n",
      "Name: DEATH_EVENT, dtype: float64\n",
      "anaemia\n",
      "0.0    0.298246\n",
      "1.0    0.347368\n",
      "Name: DEATH_EVENT, dtype: float64\n",
      "smoking\n",
      "0.0    0.328767\n",
      "1.0    0.301587\n",
      "Name: DEATH_EVENT, dtype: float64\n",
      "diabetes\n",
      "0.0    0.322314\n",
      "1.0    0.318182\n",
      "Name: DEATH_EVENT, dtype: float64\n",
      "sex\n",
      "0.0    0.333333\n",
      "1.0    0.313869\n",
      "Name: DEATH_EVENT, dtype: float64\n"
     ]
    }
   ],
   "source": [
    "catego(liste)"
   ]
  },
  {
   "cell_type": "code",
   "execution_count": null,
   "id": "db11d807",
   "metadata": {},
   "outputs": [],
   "source": []
  },
  {
   "cell_type": "markdown",
   "id": "df8f54df",
   "metadata": {},
   "source": [
    "## Remarque"
   ]
  },
  {
   "cell_type": "markdown",
   "id": "52c7648c",
   "metadata": {},
   "source": [
    "##### On remarque les variables 'smoking','diabetes','sex' sont imputables dans les données, vu qu'elles n'ont pas d'influence sur notre variable a predire."
   ]
  },
  {
   "cell_type": "code",
   "execution_count": 141,
   "id": "1cbf81b8",
   "metadata": {},
   "outputs": [],
   "source": [
    "df_train=df_train.drop(['smoking','diabetes','sex'],axis=1)"
   ]
  },
  {
   "cell_type": "code",
   "execution_count": 140,
   "id": "c589e32e",
   "metadata": {},
   "outputs": [],
   "source": [
    "df_val=df_val.drop(['smoking','diabetes','sex'],axis=1)"
   ]
  },
  {
   "cell_type": "code",
   "execution_count": 218,
   "id": "e3267e20",
   "metadata": {},
   "outputs": [
    {
     "data": {
      "text/html": [
       "<div>\n",
       "<style scoped>\n",
       "    .dataframe tbody tr th:only-of-type {\n",
       "        vertical-align: middle;\n",
       "    }\n",
       "\n",
       "    .dataframe tbody tr th {\n",
       "        vertical-align: top;\n",
       "    }\n",
       "\n",
       "    .dataframe thead th {\n",
       "        text-align: right;\n",
       "    }\n",
       "</style>\n",
       "<table border=\"1\" class=\"dataframe\">\n",
       "  <thead>\n",
       "    <tr style=\"text-align: right;\">\n",
       "      <th></th>\n",
       "      <th>age</th>\n",
       "      <th>anaemia</th>\n",
       "      <th>creatinine_phosphokinase</th>\n",
       "      <th>ejection_fraction</th>\n",
       "      <th>high_blood_pressure</th>\n",
       "      <th>platelets</th>\n",
       "      <th>serum_creatinine</th>\n",
       "      <th>serum_sodium</th>\n",
       "      <th>time</th>\n",
       "      <th>DEATH_EVENT</th>\n",
       "    </tr>\n",
       "  </thead>\n",
       "  <tbody>\n",
       "    <tr>\n",
       "      <th>0</th>\n",
       "      <td>73.0</td>\n",
       "      <td>0.0</td>\n",
       "      <td>582.0</td>\n",
       "      <td>20.0</td>\n",
       "      <td>0.0</td>\n",
       "      <td>263358.03</td>\n",
       "      <td>1.83</td>\n",
       "      <td>134.0</td>\n",
       "      <td>198.0</td>\n",
       "      <td>1</td>\n",
       "    </tr>\n",
       "    <tr>\n",
       "      <th>1</th>\n",
       "      <td>70.0</td>\n",
       "      <td>0.0</td>\n",
       "      <td>212.0</td>\n",
       "      <td>17.0</td>\n",
       "      <td>1.0</td>\n",
       "      <td>389000.00</td>\n",
       "      <td>1.00</td>\n",
       "      <td>136.0</td>\n",
       "      <td>188.0</td>\n",
       "      <td>0</td>\n",
       "    </tr>\n",
       "    <tr>\n",
       "      <th>2</th>\n",
       "      <td>60.0</td>\n",
       "      <td>1.0</td>\n",
       "      <td>737.0</td>\n",
       "      <td>60.0</td>\n",
       "      <td>1.0</td>\n",
       "      <td>210000.00</td>\n",
       "      <td>1.50</td>\n",
       "      <td>135.0</td>\n",
       "      <td>95.0</td>\n",
       "      <td>0</td>\n",
       "    </tr>\n",
       "    <tr>\n",
       "      <th>3</th>\n",
       "      <td>45.0</td>\n",
       "      <td>0.0</td>\n",
       "      <td>615.0</td>\n",
       "      <td>55.0</td>\n",
       "      <td>0.0</td>\n",
       "      <td>222000.00</td>\n",
       "      <td>0.80</td>\n",
       "      <td>141.0</td>\n",
       "      <td>257.0</td>\n",
       "      <td>0</td>\n",
       "    </tr>\n",
       "    <tr>\n",
       "      <th>4</th>\n",
       "      <td>55.0</td>\n",
       "      <td>0.0</td>\n",
       "      <td>748.0</td>\n",
       "      <td>45.0</td>\n",
       "      <td>0.0</td>\n",
       "      <td>263000.00</td>\n",
       "      <td>1.30</td>\n",
       "      <td>137.0</td>\n",
       "      <td>88.0</td>\n",
       "      <td>0</td>\n",
       "    </tr>\n",
       "    <tr>\n",
       "      <th>...</th>\n",
       "      <td>...</td>\n",
       "      <td>...</td>\n",
       "      <td>...</td>\n",
       "      <td>...</td>\n",
       "      <td>...</td>\n",
       "      <td>...</td>\n",
       "      <td>...</td>\n",
       "      <td>...</td>\n",
       "      <td>...</td>\n",
       "      <td>...</td>\n",
       "    </tr>\n",
       "    <tr>\n",
       "      <th>204</th>\n",
       "      <td>44.0</td>\n",
       "      <td>0.0</td>\n",
       "      <td>84.0</td>\n",
       "      <td>40.0</td>\n",
       "      <td>1.0</td>\n",
       "      <td>235000.00</td>\n",
       "      <td>0.70</td>\n",
       "      <td>139.0</td>\n",
       "      <td>79.0</td>\n",
       "      <td>0</td>\n",
       "    </tr>\n",
       "    <tr>\n",
       "      <th>205</th>\n",
       "      <td>46.0</td>\n",
       "      <td>0.0</td>\n",
       "      <td>719.0</td>\n",
       "      <td>40.0</td>\n",
       "      <td>1.0</td>\n",
       "      <td>263358.03</td>\n",
       "      <td>1.18</td>\n",
       "      <td>137.0</td>\n",
       "      <td>107.0</td>\n",
       "      <td>0</td>\n",
       "    </tr>\n",
       "    <tr>\n",
       "      <th>206</th>\n",
       "      <td>60.0</td>\n",
       "      <td>0.0</td>\n",
       "      <td>68.0</td>\n",
       "      <td>20.0</td>\n",
       "      <td>0.0</td>\n",
       "      <td>119000.00</td>\n",
       "      <td>2.90</td>\n",
       "      <td>127.0</td>\n",
       "      <td>64.0</td>\n",
       "      <td>1</td>\n",
       "    </tr>\n",
       "    <tr>\n",
       "      <th>207</th>\n",
       "      <td>53.0</td>\n",
       "      <td>1.0</td>\n",
       "      <td>91.0</td>\n",
       "      <td>20.0</td>\n",
       "      <td>1.0</td>\n",
       "      <td>418000.00</td>\n",
       "      <td>1.40</td>\n",
       "      <td>139.0</td>\n",
       "      <td>43.0</td>\n",
       "      <td>1</td>\n",
       "    </tr>\n",
       "    <tr>\n",
       "      <th>208</th>\n",
       "      <td>46.0</td>\n",
       "      <td>0.0</td>\n",
       "      <td>168.0</td>\n",
       "      <td>17.0</td>\n",
       "      <td>1.0</td>\n",
       "      <td>271000.00</td>\n",
       "      <td>2.10</td>\n",
       "      <td>124.0</td>\n",
       "      <td>100.0</td>\n",
       "      <td>1</td>\n",
       "    </tr>\n",
       "  </tbody>\n",
       "</table>\n",
       "<p>209 rows × 10 columns</p>\n",
       "</div>"
      ],
      "text/plain": [
       "      age  anaemia  creatinine_phosphokinase  ejection_fraction  \\\n",
       "0    73.0      0.0                     582.0               20.0   \n",
       "1    70.0      0.0                     212.0               17.0   \n",
       "2    60.0      1.0                     737.0               60.0   \n",
       "3    45.0      0.0                     615.0               55.0   \n",
       "4    55.0      0.0                     748.0               45.0   \n",
       "..    ...      ...                       ...                ...   \n",
       "204  44.0      0.0                      84.0               40.0   \n",
       "205  46.0      0.0                     719.0               40.0   \n",
       "206  60.0      0.0                      68.0               20.0   \n",
       "207  53.0      1.0                      91.0               20.0   \n",
       "208  46.0      0.0                     168.0               17.0   \n",
       "\n",
       "     high_blood_pressure  platelets  serum_creatinine  serum_sodium   time  \\\n",
       "0                    0.0  263358.03              1.83         134.0  198.0   \n",
       "1                    1.0  389000.00              1.00         136.0  188.0   \n",
       "2                    1.0  210000.00              1.50         135.0   95.0   \n",
       "3                    0.0  222000.00              0.80         141.0  257.0   \n",
       "4                    0.0  263000.00              1.30         137.0   88.0   \n",
       "..                   ...        ...               ...           ...    ...   \n",
       "204                  1.0  235000.00              0.70         139.0   79.0   \n",
       "205                  1.0  263358.03              1.18         137.0  107.0   \n",
       "206                  0.0  119000.00              2.90         127.0   64.0   \n",
       "207                  1.0  418000.00              1.40         139.0   43.0   \n",
       "208                  1.0  271000.00              2.10         124.0  100.0   \n",
       "\n",
       "     DEATH_EVENT  \n",
       "0              1  \n",
       "1              0  \n",
       "2              0  \n",
       "3              0  \n",
       "4              0  \n",
       "..           ...  \n",
       "204            0  \n",
       "205            0  \n",
       "206            1  \n",
       "207            1  \n",
       "208            1  \n",
       "\n",
       "[209 rows x 10 columns]"
      ]
     },
     "execution_count": 218,
     "metadata": {},
     "output_type": "execute_result"
    }
   ],
   "source": [
    "df_train"
   ]
  },
  {
   "cell_type": "code",
   "execution_count": 219,
   "id": "817dfa82",
   "metadata": {},
   "outputs": [
    {
     "data": {
      "text/html": [
       "<div>\n",
       "<style scoped>\n",
       "    .dataframe tbody tr th:only-of-type {\n",
       "        vertical-align: middle;\n",
       "    }\n",
       "\n",
       "    .dataframe tbody tr th {\n",
       "        vertical-align: top;\n",
       "    }\n",
       "\n",
       "    .dataframe thead th {\n",
       "        text-align: right;\n",
       "    }\n",
       "</style>\n",
       "<table border=\"1\" class=\"dataframe\">\n",
       "  <thead>\n",
       "    <tr style=\"text-align: right;\">\n",
       "      <th></th>\n",
       "      <th>age</th>\n",
       "      <th>anaemia</th>\n",
       "      <th>creatinine_phosphokinase</th>\n",
       "      <th>ejection_fraction</th>\n",
       "      <th>high_blood_pressure</th>\n",
       "      <th>platelets</th>\n",
       "      <th>serum_creatinine</th>\n",
       "      <th>serum_sodium</th>\n",
       "      <th>time</th>\n",
       "      <th>DEATH_EVENT</th>\n",
       "    </tr>\n",
       "    <tr>\n",
       "      <th>trustii_id</th>\n",
       "      <th></th>\n",
       "      <th></th>\n",
       "      <th></th>\n",
       "      <th></th>\n",
       "      <th></th>\n",
       "      <th></th>\n",
       "      <th></th>\n",
       "      <th></th>\n",
       "      <th></th>\n",
       "      <th></th>\n",
       "    </tr>\n",
       "  </thead>\n",
       "  <tbody>\n",
       "    <tr>\n",
       "      <th>1</th>\n",
       "      <td>58.0</td>\n",
       "      <td>0.0</td>\n",
       "      <td>144.0</td>\n",
       "      <td>38.0</td>\n",
       "      <td>1.0</td>\n",
       "      <td>327000.00</td>\n",
       "      <td>0.70</td>\n",
       "      <td>142.0</td>\n",
       "      <td>83.0</td>\n",
       "      <td>0</td>\n",
       "    </tr>\n",
       "    <tr>\n",
       "      <th>2</th>\n",
       "      <td>50.0</td>\n",
       "      <td>1.0</td>\n",
       "      <td>249.0</td>\n",
       "      <td>35.0</td>\n",
       "      <td>1.0</td>\n",
       "      <td>319000.00</td>\n",
       "      <td>1.00</td>\n",
       "      <td>128.0</td>\n",
       "      <td>28.0</td>\n",
       "      <td>1</td>\n",
       "    </tr>\n",
       "    <tr>\n",
       "      <th>3</th>\n",
       "      <td>60.0</td>\n",
       "      <td>0.0</td>\n",
       "      <td>166.0</td>\n",
       "      <td>30.0</td>\n",
       "      <td>0.0</td>\n",
       "      <td>62000.00</td>\n",
       "      <td>1.70</td>\n",
       "      <td>127.0</td>\n",
       "      <td>207.0</td>\n",
       "      <td>1</td>\n",
       "    </tr>\n",
       "    <tr>\n",
       "      <th>4</th>\n",
       "      <td>60.0</td>\n",
       "      <td>0.0</td>\n",
       "      <td>235.0</td>\n",
       "      <td>38.0</td>\n",
       "      <td>0.0</td>\n",
       "      <td>329000.00</td>\n",
       "      <td>3.00</td>\n",
       "      <td>142.0</td>\n",
       "      <td>30.0</td>\n",
       "      <td>1</td>\n",
       "    </tr>\n",
       "    <tr>\n",
       "      <th>5</th>\n",
       "      <td>86.0</td>\n",
       "      <td>0.0</td>\n",
       "      <td>582.0</td>\n",
       "      <td>38.0</td>\n",
       "      <td>0.0</td>\n",
       "      <td>263358.03</td>\n",
       "      <td>1.83</td>\n",
       "      <td>134.0</td>\n",
       "      <td>95.0</td>\n",
       "      <td>1</td>\n",
       "    </tr>\n",
       "    <tr>\n",
       "      <th>...</th>\n",
       "      <td>...</td>\n",
       "      <td>...</td>\n",
       "      <td>...</td>\n",
       "      <td>...</td>\n",
       "      <td>...</td>\n",
       "      <td>...</td>\n",
       "      <td>...</td>\n",
       "      <td>...</td>\n",
       "      <td>...</td>\n",
       "      <td>...</td>\n",
       "    </tr>\n",
       "    <tr>\n",
       "      <th>86</th>\n",
       "      <td>85.0</td>\n",
       "      <td>0.0</td>\n",
       "      <td>5882.0</td>\n",
       "      <td>35.0</td>\n",
       "      <td>0.0</td>\n",
       "      <td>243000.00</td>\n",
       "      <td>1.00</td>\n",
       "      <td>132.0</td>\n",
       "      <td>72.0</td>\n",
       "      <td>1</td>\n",
       "    </tr>\n",
       "    <tr>\n",
       "      <th>87</th>\n",
       "      <td>55.0</td>\n",
       "      <td>0.0</td>\n",
       "      <td>572.0</td>\n",
       "      <td>35.0</td>\n",
       "      <td>0.0</td>\n",
       "      <td>231000.00</td>\n",
       "      <td>0.80</td>\n",
       "      <td>143.0</td>\n",
       "      <td>215.0</td>\n",
       "      <td>0</td>\n",
       "    </tr>\n",
       "    <tr>\n",
       "      <th>88</th>\n",
       "      <td>50.0</td>\n",
       "      <td>1.0</td>\n",
       "      <td>582.0</td>\n",
       "      <td>20.0</td>\n",
       "      <td>1.0</td>\n",
       "      <td>279000.00</td>\n",
       "      <td>1.00</td>\n",
       "      <td>134.0</td>\n",
       "      <td>186.0</td>\n",
       "      <td>1</td>\n",
       "    </tr>\n",
       "    <tr>\n",
       "      <th>89</th>\n",
       "      <td>60.0</td>\n",
       "      <td>0.0</td>\n",
       "      <td>2261.0</td>\n",
       "      <td>35.0</td>\n",
       "      <td>1.0</td>\n",
       "      <td>228000.00</td>\n",
       "      <td>0.90</td>\n",
       "      <td>136.0</td>\n",
       "      <td>115.0</td>\n",
       "      <td>0</td>\n",
       "    </tr>\n",
       "    <tr>\n",
       "      <th>90</th>\n",
       "      <td>60.0</td>\n",
       "      <td>0.0</td>\n",
       "      <td>582.0</td>\n",
       "      <td>38.0</td>\n",
       "      <td>1.0</td>\n",
       "      <td>451000.00</td>\n",
       "      <td>0.60</td>\n",
       "      <td>138.0</td>\n",
       "      <td>40.0</td>\n",
       "      <td>1</td>\n",
       "    </tr>\n",
       "  </tbody>\n",
       "</table>\n",
       "<p>90 rows × 10 columns</p>\n",
       "</div>"
      ],
      "text/plain": [
       "             age  anaemia  creatinine_phosphokinase  ejection_fraction  \\\n",
       "trustii_id                                                               \n",
       "1           58.0      0.0                     144.0               38.0   \n",
       "2           50.0      1.0                     249.0               35.0   \n",
       "3           60.0      0.0                     166.0               30.0   \n",
       "4           60.0      0.0                     235.0               38.0   \n",
       "5           86.0      0.0                     582.0               38.0   \n",
       "...          ...      ...                       ...                ...   \n",
       "86          85.0      0.0                    5882.0               35.0   \n",
       "87          55.0      0.0                     572.0               35.0   \n",
       "88          50.0      1.0                     582.0               20.0   \n",
       "89          60.0      0.0                    2261.0               35.0   \n",
       "90          60.0      0.0                     582.0               38.0   \n",
       "\n",
       "            high_blood_pressure  platelets  serum_creatinine  serum_sodium  \\\n",
       "trustii_id                                                                   \n",
       "1                           1.0  327000.00              0.70         142.0   \n",
       "2                           1.0  319000.00              1.00         128.0   \n",
       "3                           0.0   62000.00              1.70         127.0   \n",
       "4                           0.0  329000.00              3.00         142.0   \n",
       "5                           0.0  263358.03              1.83         134.0   \n",
       "...                         ...        ...               ...           ...   \n",
       "86                          0.0  243000.00              1.00         132.0   \n",
       "87                          0.0  231000.00              0.80         143.0   \n",
       "88                          1.0  279000.00              1.00         134.0   \n",
       "89                          1.0  228000.00              0.90         136.0   \n",
       "90                          1.0  451000.00              0.60         138.0   \n",
       "\n",
       "             time  DEATH_EVENT  \n",
       "trustii_id                      \n",
       "1            83.0            0  \n",
       "2            28.0            1  \n",
       "3           207.0            1  \n",
       "4            30.0            1  \n",
       "5            95.0            1  \n",
       "...           ...          ...  \n",
       "86           72.0            1  \n",
       "87          215.0            0  \n",
       "88          186.0            1  \n",
       "89          115.0            0  \n",
       "90           40.0            1  \n",
       "\n",
       "[90 rows x 10 columns]"
      ]
     },
     "execution_count": 219,
     "metadata": {},
     "output_type": "execute_result"
    }
   ],
   "source": [
    "df_val"
   ]
  },
  {
   "cell_type": "code",
   "execution_count": 55,
   "id": "ec5eb5f9",
   "metadata": {},
   "outputs": [],
   "source": [
    "df_train=pd.DataFrame(scaler.fit_transform(df_train.values),columns=df_train.columns)"
   ]
  },
  {
   "cell_type": "code",
   "execution_count": 285,
   "id": "49bb86cf",
   "metadata": {},
   "outputs": [
    {
     "data": {
      "text/html": [
       "<div>\n",
       "<style scoped>\n",
       "    .dataframe tbody tr th:only-of-type {\n",
       "        vertical-align: middle;\n",
       "    }\n",
       "\n",
       "    .dataframe tbody tr th {\n",
       "        vertical-align: top;\n",
       "    }\n",
       "\n",
       "    .dataframe thead th {\n",
       "        text-align: right;\n",
       "    }\n",
       "</style>\n",
       "<table border=\"1\" class=\"dataframe\">\n",
       "  <thead>\n",
       "    <tr style=\"text-align: right;\">\n",
       "      <th></th>\n",
       "      <th>age</th>\n",
       "      <th>anaemia</th>\n",
       "      <th>creatinine_phosphokinase</th>\n",
       "      <th>diabetes</th>\n",
       "      <th>ejection_fraction</th>\n",
       "      <th>high_blood_pressure</th>\n",
       "      <th>serum_creatinine</th>\n",
       "      <th>serum_sodium</th>\n",
       "      <th>sex</th>\n",
       "      <th>smoking</th>\n",
       "      <th>time</th>\n",
       "      <th>DEATH_EVENT</th>\n",
       "    </tr>\n",
       "  </thead>\n",
       "  <tbody>\n",
       "    <tr>\n",
       "      <th>0</th>\n",
       "      <td>73.0</td>\n",
       "      <td>0.0</td>\n",
       "      <td>582.0</td>\n",
       "      <td>0.0</td>\n",
       "      <td>20.0</td>\n",
       "      <td>0.0</td>\n",
       "      <td>1.83</td>\n",
       "      <td>134.0</td>\n",
       "      <td>1.0</td>\n",
       "      <td>0.0</td>\n",
       "      <td>198.0</td>\n",
       "      <td>1</td>\n",
       "    </tr>\n",
       "    <tr>\n",
       "      <th>1</th>\n",
       "      <td>70.0</td>\n",
       "      <td>0.0</td>\n",
       "      <td>212.0</td>\n",
       "      <td>1.0</td>\n",
       "      <td>17.0</td>\n",
       "      <td>1.0</td>\n",
       "      <td>1.00</td>\n",
       "      <td>136.0</td>\n",
       "      <td>1.0</td>\n",
       "      <td>1.0</td>\n",
       "      <td>188.0</td>\n",
       "      <td>0</td>\n",
       "    </tr>\n",
       "    <tr>\n",
       "      <th>2</th>\n",
       "      <td>60.0</td>\n",
       "      <td>1.0</td>\n",
       "      <td>737.0</td>\n",
       "      <td>0.0</td>\n",
       "      <td>60.0</td>\n",
       "      <td>1.0</td>\n",
       "      <td>1.50</td>\n",
       "      <td>135.0</td>\n",
       "      <td>1.0</td>\n",
       "      <td>1.0</td>\n",
       "      <td>95.0</td>\n",
       "      <td>0</td>\n",
       "    </tr>\n",
       "    <tr>\n",
       "      <th>3</th>\n",
       "      <td>45.0</td>\n",
       "      <td>0.0</td>\n",
       "      <td>615.0</td>\n",
       "      <td>1.0</td>\n",
       "      <td>55.0</td>\n",
       "      <td>0.0</td>\n",
       "      <td>0.80</td>\n",
       "      <td>141.0</td>\n",
       "      <td>0.0</td>\n",
       "      <td>0.0</td>\n",
       "      <td>257.0</td>\n",
       "      <td>0</td>\n",
       "    </tr>\n",
       "    <tr>\n",
       "      <th>4</th>\n",
       "      <td>55.0</td>\n",
       "      <td>0.0</td>\n",
       "      <td>748.0</td>\n",
       "      <td>0.0</td>\n",
       "      <td>45.0</td>\n",
       "      <td>0.0</td>\n",
       "      <td>1.30</td>\n",
       "      <td>137.0</td>\n",
       "      <td>1.0</td>\n",
       "      <td>0.0</td>\n",
       "      <td>88.0</td>\n",
       "      <td>0</td>\n",
       "    </tr>\n",
       "    <tr>\n",
       "      <th>...</th>\n",
       "      <td>...</td>\n",
       "      <td>...</td>\n",
       "      <td>...</td>\n",
       "      <td>...</td>\n",
       "      <td>...</td>\n",
       "      <td>...</td>\n",
       "      <td>...</td>\n",
       "      <td>...</td>\n",
       "      <td>...</td>\n",
       "      <td>...</td>\n",
       "      <td>...</td>\n",
       "      <td>...</td>\n",
       "    </tr>\n",
       "    <tr>\n",
       "      <th>204</th>\n",
       "      <td>44.0</td>\n",
       "      <td>0.0</td>\n",
       "      <td>84.0</td>\n",
       "      <td>1.0</td>\n",
       "      <td>40.0</td>\n",
       "      <td>1.0</td>\n",
       "      <td>0.70</td>\n",
       "      <td>139.0</td>\n",
       "      <td>1.0</td>\n",
       "      <td>0.0</td>\n",
       "      <td>79.0</td>\n",
       "      <td>0</td>\n",
       "    </tr>\n",
       "    <tr>\n",
       "      <th>205</th>\n",
       "      <td>46.0</td>\n",
       "      <td>0.0</td>\n",
       "      <td>719.0</td>\n",
       "      <td>0.0</td>\n",
       "      <td>40.0</td>\n",
       "      <td>1.0</td>\n",
       "      <td>1.18</td>\n",
       "      <td>137.0</td>\n",
       "      <td>0.0</td>\n",
       "      <td>0.0</td>\n",
       "      <td>107.0</td>\n",
       "      <td>0</td>\n",
       "    </tr>\n",
       "    <tr>\n",
       "      <th>206</th>\n",
       "      <td>60.0</td>\n",
       "      <td>0.0</td>\n",
       "      <td>68.0</td>\n",
       "      <td>0.0</td>\n",
       "      <td>20.0</td>\n",
       "      <td>0.0</td>\n",
       "      <td>2.90</td>\n",
       "      <td>127.0</td>\n",
       "      <td>1.0</td>\n",
       "      <td>1.0</td>\n",
       "      <td>64.0</td>\n",
       "      <td>1</td>\n",
       "    </tr>\n",
       "    <tr>\n",
       "      <th>207</th>\n",
       "      <td>53.0</td>\n",
       "      <td>1.0</td>\n",
       "      <td>91.0</td>\n",
       "      <td>0.0</td>\n",
       "      <td>20.0</td>\n",
       "      <td>1.0</td>\n",
       "      <td>1.40</td>\n",
       "      <td>139.0</td>\n",
       "      <td>0.0</td>\n",
       "      <td>0.0</td>\n",
       "      <td>43.0</td>\n",
       "      <td>1</td>\n",
       "    </tr>\n",
       "    <tr>\n",
       "      <th>208</th>\n",
       "      <td>46.0</td>\n",
       "      <td>0.0</td>\n",
       "      <td>168.0</td>\n",
       "      <td>1.0</td>\n",
       "      <td>17.0</td>\n",
       "      <td>1.0</td>\n",
       "      <td>2.10</td>\n",
       "      <td>124.0</td>\n",
       "      <td>0.0</td>\n",
       "      <td>0.0</td>\n",
       "      <td>100.0</td>\n",
       "      <td>1</td>\n",
       "    </tr>\n",
       "  </tbody>\n",
       "</table>\n",
       "<p>209 rows × 12 columns</p>\n",
       "</div>"
      ],
      "text/plain": [
       "      age  anaemia  creatinine_phosphokinase  diabetes  ejection_fraction  \\\n",
       "0    73.0      0.0                     582.0       0.0               20.0   \n",
       "1    70.0      0.0                     212.0       1.0               17.0   \n",
       "2    60.0      1.0                     737.0       0.0               60.0   \n",
       "3    45.0      0.0                     615.0       1.0               55.0   \n",
       "4    55.0      0.0                     748.0       0.0               45.0   \n",
       "..    ...      ...                       ...       ...                ...   \n",
       "204  44.0      0.0                      84.0       1.0               40.0   \n",
       "205  46.0      0.0                     719.0       0.0               40.0   \n",
       "206  60.0      0.0                      68.0       0.0               20.0   \n",
       "207  53.0      1.0                      91.0       0.0               20.0   \n",
       "208  46.0      0.0                     168.0       1.0               17.0   \n",
       "\n",
       "     high_blood_pressure  serum_creatinine  serum_sodium  sex  smoking   time  \\\n",
       "0                    0.0              1.83         134.0  1.0      0.0  198.0   \n",
       "1                    1.0              1.00         136.0  1.0      1.0  188.0   \n",
       "2                    1.0              1.50         135.0  1.0      1.0   95.0   \n",
       "3                    0.0              0.80         141.0  0.0      0.0  257.0   \n",
       "4                    0.0              1.30         137.0  1.0      0.0   88.0   \n",
       "..                   ...               ...           ...  ...      ...    ...   \n",
       "204                  1.0              0.70         139.0  1.0      0.0   79.0   \n",
       "205                  1.0              1.18         137.0  0.0      0.0  107.0   \n",
       "206                  0.0              2.90         127.0  1.0      1.0   64.0   \n",
       "207                  1.0              1.40         139.0  0.0      0.0   43.0   \n",
       "208                  1.0              2.10         124.0  0.0      0.0  100.0   \n",
       "\n",
       "     DEATH_EVENT  \n",
       "0              1  \n",
       "1              0  \n",
       "2              0  \n",
       "3              0  \n",
       "4              0  \n",
       "..           ...  \n",
       "204            0  \n",
       "205            0  \n",
       "206            1  \n",
       "207            1  \n",
       "208            1  \n",
       "\n",
       "[209 rows x 12 columns]"
      ]
     },
     "execution_count": 285,
     "metadata": {},
     "output_type": "execute_result"
    }
   ],
   "source": [
    "df_train"
   ]
  },
  {
   "cell_type": "markdown",
   "id": "8eeab4da",
   "metadata": {},
   "source": [
    "## Choix du Modele: L'objectif de cette partie est de voir quel est le modele qui convient à ces données"
   ]
  },
  {
   "cell_type": "code",
   "execution_count": 109,
   "id": "c00a4435",
   "metadata": {},
   "outputs": [],
   "source": [
    "modele=[DecisionTreeClassifier(),KNeighborsClassifier(),RandomForestClassifier(),SVC(),GradientBoostingClassifier(),SGDClassifier(),LogisticRegression()]"
   ]
  },
  {
   "cell_type": "code",
   "execution_count": 143,
   "id": "84afd047",
   "metadata": {},
   "outputs": [],
   "source": [
    "X_train=df_train.iloc[:,0:-1]\n",
    "Y_train=df_train['DEATH_EVENT'].values"
   ]
  },
  {
   "cell_type": "code",
   "execution_count": 144,
   "id": "0091dbd5",
   "metadata": {},
   "outputs": [],
   "source": [
    "percentage_donnees_test = 0.2\n",
    "X, X_VAL, Y, Y_VAL=train_test_split(X_train,Y_train, test_size=percentage_donnees_test)"
   ]
  },
  {
   "cell_type": "markdown",
   "id": "d6867f42",
   "metadata": {},
   "source": [
    "## Nous utilisons une fonction pour tester la plupart des modeles de classification sur nos données"
   ]
  },
  {
   "cell_type": "code",
   "execution_count": 145,
   "id": "a170e3e9",
   "metadata": {},
   "outputs": [],
   "source": [
    "def model_train(liste):\n",
    "    dt={}\n",
    "    for model in liste:\n",
    "        M=model\n",
    "        M.fit(X,Y)\n",
    "        pred=M.predict(X_VAL)\n",
    "        dt[M]=accuracy_score(pred,Y_VAL)\n",
    "        \n",
    "    return dt"
   ]
  },
  {
   "cell_type": "code",
   "execution_count": 146,
   "id": "23e35a46",
   "metadata": {},
   "outputs": [
    {
     "data": {
      "text/plain": [
       "{DecisionTreeClassifier(): 0.8095238095238095,\n",
       " KNeighborsClassifier(): 0.5238095238095238,\n",
       " RandomForestClassifier(): 0.8809523809523809,\n",
       " SVC(): 0.5,\n",
       " GradientBoostingClassifier(): 0.8571428571428571,\n",
       " SGDClassifier(): 0.5,\n",
       " LogisticRegression(): 0.8333333333333334}"
      ]
     },
     "execution_count": 146,
     "metadata": {},
     "output_type": "execute_result"
    }
   ],
   "source": [
    "model_train(modele)"
   ]
  },
  {
   "cell_type": "markdown",
   "id": "5495d7cc",
   "metadata": {},
   "source": [
    "## Nous remarquons que les modeles les plus performants sont: RandomForestClassifier,GradientBoostingClassifier,DecisionTreeClassifier. Nous pouvons donc les choisir pour mieux les entrainer."
   ]
  },
  {
   "cell_type": "markdown",
   "id": "ae698986",
   "metadata": {},
   "source": [
    "# Calibrage des modeles"
   ]
  },
  {
   "cell_type": "code",
   "execution_count": 228,
   "id": "bbf812e4",
   "metadata": {},
   "outputs": [],
   "source": [
    "from sklearn.pipeline import make_pipeline\n",
    "from joblib import dump,load"
   ]
  },
  {
   "cell_type": "code",
   "execution_count": 153,
   "id": "4098bcf4",
   "metadata": {},
   "outputs": [],
   "source": [
    "model=make_pipeline(PolynomialFeatures(),StandardScaler(),SGDClassifier(random_state=0))"
   ]
  },
  {
   "cell_type": "code",
   "execution_count": 176,
   "id": "ae9a6e01",
   "metadata": {},
   "outputs": [],
   "source": [
    "param={\n",
    "    'sgdclassifier__penalty':['l1','l2']\n",
    "}"
   ]
  },
  {
   "cell_type": "code",
   "execution_count": 177,
   "id": "98d26205",
   "metadata": {},
   "outputs": [],
   "source": [
    "grid=GridSearchCV(model,param_grid=param,cv=4)"
   ]
  },
  {
   "cell_type": "code",
   "execution_count": 179,
   "id": "926f51a7",
   "metadata": {},
   "outputs": [
    {
     "data": {
      "text/plain": [
       "GridSearchCV(cv=4,\n",
       "             estimator=Pipeline(steps=[('polynomialfeatures',\n",
       "                                        PolynomialFeatures()),\n",
       "                                       ('standardscaler', StandardScaler()),\n",
       "                                       ('sgdclassifier',\n",
       "                                        SGDClassifier(random_state=0))]),\n",
       "             param_grid={'sgdclassifier__penalty': ['l1', 'l2']})"
      ]
     },
     "execution_count": 179,
     "metadata": {},
     "output_type": "execute_result"
    }
   ],
   "source": [
    "grid.fit(X_train,Y_train)"
   ]
  },
  {
   "cell_type": "code",
   "execution_count": 180,
   "id": "ed35e691",
   "metadata": {},
   "outputs": [
    {
     "data": {
      "text/plain": [
       "0.7314949201741654"
      ]
     },
     "execution_count": 180,
     "metadata": {},
     "output_type": "execute_result"
    }
   ],
   "source": [
    "grid.best_score_"
   ]
  },
  {
   "cell_type": "markdown",
   "id": "d8c5e90a",
   "metadata": {},
   "source": [
    "### RandomForestClassifier"
   ]
  },
  {
   "cell_type": "code",
   "execution_count": 147,
   "id": "3d35cdd9",
   "metadata": {},
   "outputs": [],
   "source": [
    "\n",
    "random_forest = [{'n_estimators': range(100,200)},{'min_samples_split':range(2,50)},{'max_leaf_nodes':range(2,50)},{'min_samples_leaf':range(1,50)},{'max_features': [\"auto\", \"sqrt\", \"log2\"]},{'criterion':[\"gini\", \"entropy\"]}]"
   ]
  },
  {
   "cell_type": "code",
   "execution_count": 332,
   "id": "bba99821",
   "metadata": {},
   "outputs": [],
   "source": [
    "?RandomForestClassifier"
   ]
  },
  {
   "cell_type": "code",
   "execution_count": 224,
   "id": "339fbfa5",
   "metadata": {},
   "outputs": [],
   "source": [
    "random_forest = [ {'n_estimators':np.arange(100,300)},{'min_samples_split' :range(2,100)},\n",
    "          {'min_samples_leaf' : range(1,100)},{'max_leaf_nodes' :range(2,100)},{'max_features' : [\"auto\",\"sqrt\", \"log2\"]}]"
   ]
  },
  {
   "cell_type": "markdown",
   "id": "0d606ed3",
   "metadata": {},
   "source": [
    "### Le deséquilibre entre les données doit etre pris en compte par le modele"
   ]
  },
  {
   "cell_type": "code",
   "execution_count": 223,
   "id": "0a5fc9dc",
   "metadata": {},
   "outputs": [
    {
     "name": "stdout",
     "output_type": "stream",
     "text": [
      "DEATH_EVENT\n",
      "0    142\n",
      "1     67\n",
      "dtype: int64\n"
     ]
    }
   ],
   "source": [
    "print(df_train.groupby('DEATH_EVENT').size())"
   ]
  },
  {
   "cell_type": "code",
   "execution_count": 175,
   "id": "69512643",
   "metadata": {},
   "outputs": [],
   "source": [
    "randModel=GridSearchCV(RandomForestClassifier(class_weight={0:142}),random_forest,cv=5,verbose=True, n_jobs=-1)"
   ]
  },
  {
   "cell_type": "code",
   "execution_count": 203,
   "id": "96723529",
   "metadata": {},
   "outputs": [
    {
     "name": "stdout",
     "output_type": "stream",
     "text": [
      "Fitting 5 folds for each of 250 candidates, totalling 1250 fits\n"
     ]
    },
    {
     "data": {
      "text/plain": [
       "GridSearchCV(cv=5, estimator=RandomForestClassifier(class_weight={0: 142}),\n",
       "             n_jobs=-1,\n",
       "             param_grid=[{'n_estimators': range(100, 200)},\n",
       "                         {'min_samples_split': range(2, 50)},\n",
       "                         {'max_leaf_nodes': range(2, 50)},\n",
       "                         {'min_samples_leaf': range(1, 50)},\n",
       "                         {'max_features': ['auto', 'sqrt', 'log2']},\n",
       "                         {'criterion': ['gini', 'entropy']}],\n",
       "             verbose=True)"
      ]
     },
     "execution_count": 203,
     "metadata": {},
     "output_type": "execute_result"
    }
   ],
   "source": [
    "randModel.fit(X_train,Y_train)"
   ]
  },
  {
   "cell_type": "code",
   "execution_count": 204,
   "id": "2c085e32",
   "metadata": {},
   "outputs": [
    {
     "data": {
      "text/plain": [
       "0.8140534262485482"
      ]
     },
     "execution_count": 204,
     "metadata": {},
     "output_type": "execute_result"
    }
   ],
   "source": [
    "randModel.best_score_"
   ]
  },
  {
   "cell_type": "code",
   "execution_count": 215,
   "id": "b837d6a2",
   "metadata": {},
   "outputs": [
    {
     "data": {
      "text/plain": [
       "{'n_estimators': 123}"
      ]
     },
     "execution_count": 215,
     "metadata": {},
     "output_type": "execute_result"
    }
   ],
   "source": [
    "randModel.best_params_"
   ]
  },
  {
   "cell_type": "code",
   "execution_count": 217,
   "id": "cd40d8c0",
   "metadata": {},
   "outputs": [
    {
     "data": {
      "text/plain": [
       "23"
      ]
     },
     "execution_count": 217,
     "metadata": {},
     "output_type": "execute_result"
    }
   ],
   "source": [
    "randModel.best_index_"
   ]
  },
  {
   "cell_type": "code",
   "execution_count": null,
   "id": "a8433445",
   "metadata": {},
   "outputs": [],
   "source": [
    "randModel.best_"
   ]
  },
  {
   "cell_type": "code",
   "execution_count": 206,
   "id": "92170c11",
   "metadata": {},
   "outputs": [],
   "source": [
    "randForest=randModel.best_estimator_"
   ]
  },
  {
   "cell_type": "code",
   "execution_count": 208,
   "id": "29892313",
   "metadata": {},
   "outputs": [],
   "source": [
    "prediction=randForest.predict(df_val)"
   ]
  },
  {
   "cell_type": "code",
   "execution_count": 207,
   "id": "a6e96e82",
   "metadata": {},
   "outputs": [],
   "source": [
    "df_val=df_val.drop('DEATH_EVENT',axis=1)"
   ]
  },
  {
   "cell_type": "code",
   "execution_count": 212,
   "id": "72a6835e",
   "metadata": {},
   "outputs": [],
   "source": [
    "df_val['DEATH_EVENT']=prediction"
   ]
  },
  {
   "cell_type": "code",
   "execution_count": 225,
   "id": "86936587",
   "metadata": {},
   "outputs": [
    {
     "data": {
      "text/plain": [
       "['ModelCardiaqueBest1.mod']"
      ]
     },
     "execution_count": 225,
     "metadata": {},
     "output_type": "execute_result"
    }
   ],
   "source": [
    "dump(randForest, \"ModelCardiaqueBest1\")"
   ]
  },
  {
   "cell_type": "code",
   "execution_count": 226,
   "id": "08d9a734",
   "metadata": {},
   "outputs": [
    {
     "data": {
      "text/plain": [
       "array([0, 1, 1, 1, 1, 0, 0, 0, 1, 0, 1, 0, 1, 0, 0, 1, 0, 0, 0, 1, 0, 0,\n",
       "       0, 0, 1, 0, 0, 0, 0, 1, 0, 0, 0, 0, 1, 0, 1, 0, 1, 0, 0, 0, 1, 0,\n",
       "       0, 1, 0, 0, 0, 0, 1, 0, 0, 0, 0, 0, 0, 0, 0, 0, 0, 1, 0, 0, 1, 0,\n",
       "       0, 0, 1, 0, 0, 0, 1, 0, 0, 1, 0, 1, 0, 0, 0, 1, 0, 0, 1, 1, 0, 1,\n",
       "       0, 1], dtype=int64)"
      ]
     },
     "execution_count": 226,
     "metadata": {},
     "output_type": "execute_result"
    }
   ],
   "source": [
    "prediction"
   ]
  },
  {
   "cell_type": "code",
   "execution_count": 232,
   "id": "807ae1f6",
   "metadata": {},
   "outputs": [],
   "source": [
    "modele_rediction = load(\"ModelCardiaqueBest\") "
   ]
  },
  {
   "cell_type": "code",
   "execution_count": 234,
   "id": "0e5d146b",
   "metadata": {},
   "outputs": [
    {
     "data": {
      "text/plain": [
       "RandomForestClassifier(class_weight={0: 142}, n_estimators=123)"
      ]
     },
     "execution_count": 234,
     "metadata": {},
     "output_type": "execute_result"
    }
   ],
   "source": [
    "modele_rediction"
   ]
  },
  {
   "cell_type": "code",
   "execution_count": 211,
   "id": "542b6d68",
   "metadata": {},
   "outputs": [],
   "source": [
    "df_val.to_csv('my_submission2.csv',encoding='UTF-8')"
   ]
  }
 ],
 "metadata": {
  "kernelspec": {
   "display_name": "Python 3",
   "language": "python",
   "name": "python3"
  },
  "language_info": {
   "codemirror_mode": {
    "name": "ipython",
    "version": 3
   },
   "file_extension": ".py",
   "mimetype": "text/x-python",
   "name": "python",
   "nbconvert_exporter": "python",
   "pygments_lexer": "ipython3",
   "version": "3.8.8"
  }
 },
 "nbformat": 4,
 "nbformat_minor": 5
}
